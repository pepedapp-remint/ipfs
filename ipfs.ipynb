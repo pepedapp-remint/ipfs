{
 "cells": [
  {
   "cell_type": "code",
   "execution_count": 24,
   "metadata": {},
   "outputs": [],
   "source": [
    "from ipfs import *"
   ]
  },
  {
   "cell_type": "code",
   "execution_count": 25,
   "metadata": {},
   "outputs": [
    {
     "data": {
      "text/plain": [
       "('{\"IpfsHash\":\"QmdJFHnSa3GtXr7191pTUBMcdw7ozmQhYhBn2wL4vRiSuN\",\"PinSize\":2707891,\"Timestamp\":\"2020-10-16T01:12:49.644Z\"}',\n",
       " {'Server': 'nginx/1.16.1', 'Date': 'Fri, 16 Oct 2020 01:12:49 GMT', 'Content-Type': 'application/json; charset=utf-8', 'Content-Length': '118', 'Connection': 'keep-alive', 'X-Powered-By': 'Express', 'X-RateLimit-Limit': '120', 'X-RateLimit-Remaining': '118', 'X-RateLimit-Reset': '1602810820', 'Vary': 'Origin', 'Access-Control-Allow-Credentials': 'true', 'ETag': 'W/\"76-IcRt4M85whwUQ+nJp7KYCVQ3LGs\"'})"
      ]
     },
     "execution_count": 25,
     "metadata": {},
     "output_type": "execute_result"
    }
   ],
   "source": [
    "# r = pin_json({'foo': 'bar'})\n",
    "# r.text\n",
    "\n",
    "r = pin_file('test card', 'resources/cards/0x05788e5a6fae013209599b7899cfc89f5559641feb121b7a3e6cc3be2daf4068.jpg')\n",
    "(r.text, r.headers)\n",
    "\n",
    "# r = test_auth()\n",
    "# r.text"
   ]
  },
  {
   "cell_type": "code",
   "execution_count": null,
   "metadata": {},
   "outputs": [],
   "source": []
  }
 ],
 "metadata": {
  "kernelspec": {
   "display_name": "pepe_ipfs",
   "language": "python",
   "name": "pepe_ipfs"
  },
  "language_info": {
   "codemirror_mode": {
    "name": "ipython",
    "version": 3
   },
   "file_extension": ".py",
   "mimetype": "text/x-python",
   "name": "python",
   "nbconvert_exporter": "python",
   "pygments_lexer": "ipython3",
   "version": "3.8.3"
  }
 },
 "nbformat": 4,
 "nbformat_minor": 4
}
